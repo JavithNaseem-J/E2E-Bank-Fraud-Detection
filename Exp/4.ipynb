{
 "cells": [
  {
   "cell_type": "code",
   "execution_count": 1,
   "metadata": {},
   "outputs": [],
   "source": [
    "import os"
   ]
  },
  {
   "cell_type": "code",
   "execution_count": 2,
   "metadata": {},
   "outputs": [
    {
     "data": {
      "text/plain": [
       "'f:\\\\Files\\\\DS&ML\\\\E2E-Credit-Fraud-Detection\\\\Exp'"
      ]
     },
     "execution_count": 2,
     "metadata": {},
     "output_type": "execute_result"
    }
   ],
   "source": [
    "pwd%%"
   ]
  },
  {
   "cell_type": "code",
   "execution_count": 3,
   "metadata": {},
   "outputs": [],
   "source": [
    "os.chdir(\"../\")"
   ]
  },
  {
   "cell_type": "code",
   "execution_count": 4,
   "metadata": {},
   "outputs": [
    {
     "data": {
      "text/plain": [
       "'f:\\\\Files\\\\DS&ML\\\\E2E-Credit-Fraud-Detection'"
      ]
     },
     "execution_count": 4,
     "metadata": {},
     "output_type": "execute_result"
    }
   ],
   "source": [
    "pwd%%"
   ]
  },
  {
   "cell_type": "code",
   "execution_count": 5,
   "metadata": {},
   "outputs": [],
   "source": [
    "from dataclasses import dataclass\n",
    "from pathlib import Path"
   ]
  },
  {
   "cell_type": "code",
   "execution_count": 6,
   "metadata": {},
   "outputs": [],
   "source": [
    "@dataclass(frozen=True)\n",
    "class ModelTrainerConfig:\n",
    "    root_dir: Path\n",
    "    train_preprocess: Path\n",
    "    test_preprocess: Path\n",
    "    model_name: str\n",
    "    target_column: str\n",
    "    random_search_params: dict\n",
    "    n_iter: int     \n",
    "    cv_folds: int\n",
    "    scoring: str \n",
    "    n_jobs: int"
   ]
  },
  {
   "cell_type": "code",
   "execution_count": 7,
   "metadata": {},
   "outputs": [],
   "source": [
    "from project.constants import *\n",
    "from project.utils.common import *"
   ]
  },
  {
   "cell_type": "code",
   "execution_count": 8,
   "metadata": {},
   "outputs": [],
   "source": [
    "import os\n",
    "import joblib   \n",
    "import numpy as np\n",
    "import mlflow\n",
    "import mlflow.xgboost\n",
    "from xgboost import XGBClassifier\n",
    "from sklearn.model_selection import RandomizedSearchCV\n",
    "import dagshub\n",
    "from project import logger\n",
    "from project.entity.config_entity import ModelTrainerConfig\n",
    "\n",
    "class ConfigurationManager:\n",
    "    def __init__(self,\n",
    "                config_filepath=CONFIG_PATH,\n",
    "                schema_filepath=SCHEMA_PATH,\n",
    "                params_filepath=PARAMS_PATH):\n",
    "        \n",
    "        self.config = read_yaml(config_filepath)\n",
    "        self.schema = read_yaml(schema_filepath)\n",
    "        self.params = read_yaml(params_filepath)\n",
    "\n",
    "        create_directories([self.config.artifacts_root])\n",
    "\n",
    "    def get_model_training_config(self) -> ModelTrainerConfig:\n",
    "        config = self.config.model_trainer\n",
    "        params = self.params.XGBClassifier\n",
    "        schema = self.schema\n",
    "        random_search_params = params.random_search\n",
    "        cv_params = params.cross_validation\n",
    "\n",
    "        create_directories([config.root_dir])\n",
    "\n",
    "        model_trainer_config = ModelTrainerConfig(\n",
    "            root_dir=config.root_dir,\n",
    "            train_preprocess=config.train_preprocess,\n",
    "            test_preprocess=config.test_preprocess,\n",
    "            model_name=config.model_name,\n",
    "            target_column=schema.target_column.name,\n",
    "            random_search_params=random_search_params, \n",
    "            cv_folds=cv_params.cv_folds,            \n",
    "            scoring=cv_params.scoring,             \n",
    "            n_jobs=cv_params.n_jobs,\n",
    "            n_iter=cv_params.n_iter          \n",
    "        )\n",
    "        \n",
    "        return model_trainer_config "
   ]
  },
  {
   "cell_type": "code",
   "execution_count": 9,
   "metadata": {},
   "outputs": [],
   "source": [
    "class ModelTrainer:\n",
    "    def __init__(self, config: ModelTrainerConfig):\n",
    "        self.config = config\n",
    "        dagshub.init(repo_owner=\"JavithNaseem-J\", repo_name=\"E2E-Credit-Fraud-Detection\")\n",
    "        mlflow.set_tracking_uri(\"https://dagshub.com/JavithNaseem-J/E2E-Credit-Fraud-Detection.mlflow\")\n",
    "        mlflow.set_experiment(\"E2E-Credit-Fraud-Detection\")\n",
    "\n",
    "    def train(self):\n",
    "        \n",
    "\n",
    "        # Validate file paths\n",
    "        if not os.path.exists(self.config.train_preprocess):\n",
    "            logger.error(f\"Train preprocessed file not found at: {self.config.train_preprocess}\")\n",
    "            raise FileNotFoundError(\"Train preprocessed file not found\")\n",
    "        if not os.path.exists(self.config.test_preprocess):\n",
    "            logger.error(f\"Test preprocessed file not found at: {self.config.test_preprocess}\")\n",
    "            raise FileNotFoundError(\"Test preprocessed file not found\")\n",
    "\n",
    "        # Load preprocessed data\n",
    "        train_data = np.load(self.config.train_preprocess, allow_pickle=True)\n",
    "        test_data = np.load(self.config.test_preprocess, allow_pickle=True)\n",
    "\n",
    "        logger.info(f'Loaded train and test data')\n",
    "        logger.info(f'Train data shape: {train_data.shape}')\n",
    "        logger.info(f'Test data shape: {test_data.shape}')\n",
    "\n",
    "        train_x = train_data[:, :-1]\n",
    "        train_y = train_data[:, -1]\n",
    "        test_x = test_data[:, :-1]\n",
    "        test_y = test_data[:, -1]\n",
    "\n",
    "    \n",
    "        mlflow.xgboost.autolog()  \n",
    "        with mlflow.start_run(run_name=\"RandomizedSearchCV_Tuning\"):\n",
    "            mlflow.set_tag(\"run_type\", \"hyperparameter_tuning\")\n",
    "            mlflow.set_tag(\"model\", \"XGBClassifier\")\n",
    "\n",
    "            logger.info('Initializing Randomized Search')\n",
    "\n",
    "            xgb_model = XGBClassifier(\n",
    "                objective='binary:logistic',\n",
    "                verbosity=0,\n",
    "                eval_metric='logloss'\n",
    "            )\n",
    "\n",
    "            param_dist = self.config.random_search_params\n",
    "\n",
    "            logger.info('>>>>>>>>>> ......Performing Randomized Search - this may take some time...... <<<<<<<<<')\n",
    "\n",
    "\n",
    "            random_search = RandomizedSearchCV(\n",
    "                estimator=xgb_model,\n",
    "                param_distributions=param_dist,\n",
    "                n_iter=self.config.n_iter,\n",
    "                cv=self.config.cv_folds,\n",
    "                scoring='accuracy',\n",
    "                verbose=1,\n",
    "                n_jobs=self.config.n_jobs,\n",
    "                return_train_score=True\n",
    "            )\n",
    "            random_search.fit(train_x, train_y)\n",
    "\n",
    "            for i, (params, mean_score, std_score) in enumerate(\n",
    "                zip(\n",
    "                    random_search.cv_results_[\"params\"],\n",
    "                    random_search.cv_results_[\"mean_test_score\"],\n",
    "                    random_search.cv_results_[\"std_test_score\"]\n",
    "                )\n",
    "            ):\n",
    "                with mlflow.start_run(nested=True, run_name=f\"Trial_{i+1}\"):\n",
    "                    mlflow.set_tag(\"trial_number\", i + 1)\n",
    "                    mlflow.log_params(params)\n",
    "                    mlflow.log_metric(\"mean_accuracy\", mean_score)\n",
    "                    mlflow.log_metric(\"std_accuracy\", std_score)  \n",
    "                    logger.info(f\"Trial {i+1}: params={params}, mean_accuracy={mean_score:.4f}, std_accuracy={std_score:.4f}\")\n",
    "\n",
    "\n",
    "            best_model = random_search.best_estimator_\n",
    "            mlflow.xgboost.log_model(\n",
    "                xgb_model=best_model,\n",
    "                artifact_path=\"xgboost_model\",\n",
    "                registered_model_name=\"XGBClassifier_CreditFraud\"\n",
    "            )\n",
    "            logger.info(\"Best model logged to MLflow\")\n",
    "\n",
    "            model_path = os.path.join(self.config.root_dir, self.config.model_name)\n",
    "            joblib.dump(random_search, model_path)\n",
    "            logger.info(f'Model saved locally at {model_path}')"
   ]
  },
  {
   "cell_type": "code",
   "execution_count": 10,
   "metadata": {},
   "outputs": [
    {
     "name": "stdout",
     "output_type": "stream",
     "text": [
      "[2025-04-21 17:44:34,890: INFO: common: yaml file: yaml file\\config.yaml loaded successfully]\n",
      "[2025-04-21 17:44:34,893: INFO: common: yaml file: yaml file\\schema.yaml loaded successfully]\n",
      "[2025-04-21 17:44:34,902: INFO: common: yaml file: yaml file\\params.yaml loaded successfully]\n",
      "[2025-04-21 17:44:34,905: INFO: common: created directory at: artifacts]\n",
      "[2025-04-21 17:44:34,906: INFO: common: created directory at: artifacts/model_trainer]\n",
      "[2025-04-21 17:44:35,313: INFO: _client: HTTP Request: GET https://dagshub.com/api/v1/user \"HTTP/1.1 200 OK\"]\n"
     ]
    },
    {
     "data": {
      "text/html": [
       "<pre style=\"white-space:pre;overflow-x:auto;line-height:normal;font-family:Menlo,'DejaVu Sans Mono',consolas,'Courier New',monospace\">Accessing as JavithNaseem-J\n",
       "</pre>\n"
      ],
      "text/plain": [
       "Accessing as JavithNaseem-J\n"
      ]
     },
     "metadata": {},
     "output_type": "display_data"
    },
    {
     "name": "stdout",
     "output_type": "stream",
     "text": [
      "[2025-04-21 17:44:35,328: INFO: helpers: Accessing as JavithNaseem-J]\n",
      "[2025-04-21 17:44:35,681: INFO: _client: HTTP Request: GET https://dagshub.com/api/v1/repos/JavithNaseem-J/E2E-Credit-Fraud-Detection \"HTTP/1.1 200 OK\"]\n",
      "[2025-04-21 17:44:36,005: INFO: _client: HTTP Request: GET https://dagshub.com/api/v1/user \"HTTP/1.1 200 OK\"]\n"
     ]
    },
    {
     "data": {
      "text/html": [
       "<pre style=\"white-space:pre;overflow-x:auto;line-height:normal;font-family:Menlo,'DejaVu Sans Mono',consolas,'Courier New',monospace\">Initialized MLflow to track repo <span style=\"color: #008000; text-decoration-color: #008000\">\"JavithNaseem-J/E2E-Credit-Fraud-Detection\"</span>\n",
       "</pre>\n"
      ],
      "text/plain": [
       "Initialized MLflow to track repo \u001b[32m\"JavithNaseem-J/E2E-Credit-Fraud-Detection\"\u001b[0m\n"
      ]
     },
     "metadata": {},
     "output_type": "display_data"
    },
    {
     "name": "stdout",
     "output_type": "stream",
     "text": [
      "[2025-04-21 17:44:36,012: INFO: helpers: Initialized MLflow to track repo \"JavithNaseem-J/E2E-Credit-Fraud-Detection\"]\n"
     ]
    },
    {
     "data": {
      "text/html": [
       "<pre style=\"white-space:pre;overflow-x:auto;line-height:normal;font-family:Menlo,'DejaVu Sans Mono',consolas,'Courier New',monospace\">Repository JavithNaseem-J/E2E-Credit-Fraud-Detection initialized!\n",
       "</pre>\n"
      ],
      "text/plain": [
       "Repository JavithNaseem-J/E2E-Credit-Fraud-Detection initialized!\n"
      ]
     },
     "metadata": {},
     "output_type": "display_data"
    },
    {
     "name": "stdout",
     "output_type": "stream",
     "text": [
      "[2025-04-21 17:44:36,017: INFO: helpers: Repository JavithNaseem-J/E2E-Credit-Fraud-Detection initialized!]\n",
      "[2025-04-21 17:44:36,480: INFO: 744370784: Loaded train and test data]\n",
      "[2025-04-21 17:44:36,481: INFO: 744370784: Train data shape: (69840, 10)]\n",
      "[2025-04-21 17:44:36,482: INFO: 744370784: Test data shape: (17460, 10)]\n",
      "[2025-04-21 17:44:37,801: INFO: 744370784: Initializing Randomized Search]\n",
      "[2025-04-21 17:44:37,801: INFO: 744370784: >>>>>>>>>> ......Performing Randomized Search - this may take some time...... <<<<<<<<<]\n",
      "Fitting 5 folds for each of 10 candidates, totalling 50 fits\n"
     ]
    },
    {
     "name": "stderr",
     "output_type": "stream",
     "text": [
      "f:\\ProgramFiles\\anaconda3\\envs\\credit-fraud\\lib\\site-packages\\sklearn\\model_selection\\_validation.py:528: FitFailedWarning: \n",
      "1 fits failed out of a total of 50.\n",
      "The score on these train-test partitions for these parameters will be set to nan.\n",
      "If these failures are not expected, you can try to debug them by setting error_score='raise'.\n",
      "\n",
      "Below are more details about the failures:\n",
      "--------------------------------------------------------------------------------\n",
      "1 fits failed with the following error:\n",
      "Traceback (most recent call last):\n",
      "  File \"f:\\ProgramFiles\\anaconda3\\envs\\credit-fraud\\lib\\site-packages\\sklearn\\model_selection\\_validation.py\", line 866, in _fit_and_score\n",
      "    estimator.fit(X_train, y_train, **fit_params)\n",
      "  File \"f:\\ProgramFiles\\anaconda3\\envs\\credit-fraud\\lib\\site-packages\\xgboost\\core.py\", line 726, in inner_f\n",
      "    return func(**kwargs)\n",
      "  File \"f:\\ProgramFiles\\anaconda3\\envs\\credit-fraud\\lib\\site-packages\\xgboost\\sklearn.py\", line 1580, in fit\n",
      "    train_dmatrix, evals = _wrap_evaluation_matrices(\n",
      "  File \"f:\\ProgramFiles\\anaconda3\\envs\\credit-fraud\\lib\\site-packages\\xgboost\\sklearn.py\", line 603, in _wrap_evaluation_matrices\n",
      "    train_dmatrix = create_dmatrix(\n",
      "  File \"f:\\ProgramFiles\\anaconda3\\envs\\credit-fraud\\lib\\site-packages\\xgboost\\sklearn.py\", line 1065, in _create_dmatrix\n",
      "    return QuantileDMatrix(\n",
      "  File \"f:\\ProgramFiles\\anaconda3\\envs\\credit-fraud\\lib\\site-packages\\xgboost\\core.py\", line 726, in inner_f\n",
      "    return func(**kwargs)\n",
      "  File \"f:\\ProgramFiles\\anaconda3\\envs\\credit-fraud\\lib\\site-packages\\xgboost\\core.py\", line 1573, in __init__\n",
      "    self._init(\n",
      "  File \"f:\\ProgramFiles\\anaconda3\\envs\\credit-fraud\\lib\\site-packages\\xgboost\\core.py\", line 1632, in _init\n",
      "    it.reraise()\n",
      "  File \"f:\\ProgramFiles\\anaconda3\\envs\\credit-fraud\\lib\\site-packages\\xgboost\\core.py\", line 569, in reraise\n",
      "    raise exc  # pylint: disable=raising-bad-type\n",
      "  File \"f:\\ProgramFiles\\anaconda3\\envs\\credit-fraud\\lib\\site-packages\\xgboost\\core.py\", line 550, in _handle_exception\n",
      "    return fn()\n",
      "  File \"f:\\ProgramFiles\\anaconda3\\envs\\credit-fraud\\lib\\site-packages\\xgboost\\core.py\", line 637, in <lambda>\n",
      "    return self._handle_exception(lambda: self.next(input_data), 0)\n",
      "  File \"f:\\ProgramFiles\\anaconda3\\envs\\credit-fraud\\lib\\site-packages\\xgboost\\data.py\", line 1402, in next\n",
      "    input_data(**self.kwargs)\n",
      "  File \"f:\\ProgramFiles\\anaconda3\\envs\\credit-fraud\\lib\\site-packages\\xgboost\\core.py\", line 726, in inner_f\n",
      "    return func(**kwargs)\n",
      "  File \"f:\\ProgramFiles\\anaconda3\\envs\\credit-fraud\\lib\\site-packages\\xgboost\\core.py\", line 626, in input_data\n",
      "    self.proxy.set_info(\n",
      "  File \"f:\\ProgramFiles\\anaconda3\\envs\\credit-fraud\\lib\\site-packages\\xgboost\\core.py\", line 726, in inner_f\n",
      "    return func(**kwargs)\n",
      "  File \"f:\\ProgramFiles\\anaconda3\\envs\\credit-fraud\\lib\\site-packages\\xgboost\\core.py\", line 954, in set_info\n",
      "    self.set_label(label)\n",
      "  File \"f:\\ProgramFiles\\anaconda3\\envs\\credit-fraud\\lib\\site-packages\\xgboost\\core.py\", line 1092, in set_label\n",
      "    dispatch_meta_backend(self, label, \"label\", \"float\")\n",
      "  File \"f:\\ProgramFiles\\anaconda3\\envs\\credit-fraud\\lib\\site-packages\\xgboost\\data.py\", line 1338, in dispatch_meta_backend\n",
      "    _meta_from_numpy(data, name, dtype, handle)\n",
      "  File \"f:\\ProgramFiles\\anaconda3\\envs\\credit-fraud\\lib\\site-packages\\xgboost\\data.py\", line 1279, in _meta_from_numpy\n",
      "    _check_call(_LIB.XGDMatrixSetInfoFromInterface(handle, c_str(field), interface_str))\n",
      "  File \"f:\\ProgramFiles\\anaconda3\\envs\\credit-fraud\\lib\\site-packages\\xgboost\\core.py\", line 284, in _check_call\n",
      "    raise XGBoostError(py_str(_LIB.XGBGetLastError()))\n",
      "xgboost.core.XGBoostError: [17:44:54] C:\\buildkite-agent\\builds\\buildkite-windows-cpu-autoscaling-group-i-08cbc0333d8d4aae1-1\\xgboost\\xgboost-ci-windows\\src\\data\\array_interface.cu:44: Check failed: err == cudaGetLastError() (0 vs. 46) : \n",
      "\n",
      "  warnings.warn(some_fits_failed_message, FitFailedWarning)\n",
      "f:\\ProgramFiles\\anaconda3\\envs\\credit-fraud\\lib\\site-packages\\sklearn\\model_selection\\_search.py:1108: UserWarning: One or more of the test scores are non-finite: [       nan 0.93430699 0.91394616 0.68947595 0.92176403 0.84397194\n",
      " 0.91122566 0.7939433  0.92777778 0.9130441 ]\n",
      "  warnings.warn(\n",
      "f:\\ProgramFiles\\anaconda3\\envs\\credit-fraud\\lib\\site-packages\\sklearn\\model_selection\\_search.py:1108: UserWarning: One or more of the train scores are non-finite: [       nan 0.96037013 0.92285581 0.68963703 0.93277849 0.85199384\n",
      " 0.91309779 0.79972795 0.94917669 0.91732174]\n",
      "  warnings.warn(\n",
      "2025/04/21 17:45:31 WARNING mlflow.utils.autologging_utils: MLflow autologging encountered a warning: \"f:\\ProgramFiles\\anaconda3\\envs\\credit-fraud\\lib\\site-packages\\xgboost\\core.py:158: UserWarning: [17:45:31] WARNING: C:\\buildkite-agent\\builds\\buildkite-windows-cpu-autoscaling-group-i-08cbc0333d8d4aae1-1\\xgboost\\xgboost-ci-windows\\src\\c_api\\c_api.cc:1374: Saving model in the UBJSON format as default.  You can use file extension: `json`, `ubj` or `deprecated` to choose between formats.\"\n"
     ]
    },
    {
     "name": "stdout",
     "output_type": "stream",
     "text": [
      "[2025-04-21 17:45:51,903: INFO: 744370784: Trial 1: params={'subsample': 0.9, 'reg_lambda': 0, 'reg_alpha': 0.5, 'n_estimators': 50, 'min_child_weight': 7, 'max_depth': 3, 'learning_rate': 0.1, 'gamma': 0.3, 'colsample_bytree': 0.9}, mean_accuracy=nan, std_accuracy=nan]\n",
      "🏃 View run Trial_1 at: https://dagshub.com/JavithNaseem-J/E2E-Credit-Fraud-Detection.mlflow/#/experiments/0/runs/f04beb8d857d489f9b0566e4af96ea59\n",
      "🧪 View experiment at: https://dagshub.com/JavithNaseem-J/E2E-Credit-Fraud-Detection.mlflow/#/experiments/0\n",
      "[2025-04-21 17:45:54,313: INFO: 744370784: Trial 2: params={'subsample': 1.0, 'reg_lambda': 0, 'reg_alpha': 0.1, 'n_estimators': 200, 'min_child_weight': 1, 'max_depth': 10, 'learning_rate': 0.05, 'gamma': 0, 'colsample_bytree': 0.7}, mean_accuracy=0.9343, std_accuracy=0.0039]\n",
      "🏃 View run Trial_2 at: https://dagshub.com/JavithNaseem-J/E2E-Credit-Fraud-Detection.mlflow/#/experiments/0/runs/d3b14ba8b4c640969a72cdc03a005ec9\n",
      "🧪 View experiment at: https://dagshub.com/JavithNaseem-J/E2E-Credit-Fraud-Detection.mlflow/#/experiments/0\n",
      "[2025-04-21 17:46:00,885: INFO: 744370784: Trial 3: params={'subsample': 0.9, 'reg_lambda': 0.5, 'reg_alpha': 0.5, 'n_estimators': 100, 'min_child_weight': 3, 'max_depth': 7, 'learning_rate': 0.1, 'gamma': 0.3, 'colsample_bytree': 0.8}, mean_accuracy=0.9139, std_accuracy=0.0042]\n",
      "🏃 View run Trial_3 at: https://dagshub.com/JavithNaseem-J/E2E-Credit-Fraud-Detection.mlflow/#/experiments/0/runs/f8091431cc814d75a7e4bf3e21c65944\n",
      "🧪 View experiment at: https://dagshub.com/JavithNaseem-J/E2E-Credit-Fraud-Detection.mlflow/#/experiments/0\n",
      "[2025-04-21 17:46:07,909: INFO: 744370784: Trial 4: params={'subsample': 0.9, 'reg_lambda': 0, 'reg_alpha': 1.0, 'n_estimators': 50, 'min_child_weight': 7, 'max_depth': 3, 'learning_rate': 0.01, 'gamma': 0.3, 'colsample_bytree': 0.9}, mean_accuracy=0.6895, std_accuracy=0.0027]\n",
      "🏃 View run Trial_4 at: https://dagshub.com/JavithNaseem-J/E2E-Credit-Fraud-Detection.mlflow/#/experiments/0/runs/df66b2c03ccf4b3bba273c00bf306f08\n",
      "🧪 View experiment at: https://dagshub.com/JavithNaseem-J/E2E-Credit-Fraud-Detection.mlflow/#/experiments/0\n",
      "[2025-04-21 17:46:14,887: INFO: 744370784: Trial 5: params={'subsample': 0.8, 'reg_lambda': 1.0, 'reg_alpha': 0, 'n_estimators': 200, 'min_child_weight': 1, 'max_depth': 5, 'learning_rate': 0.2, 'gamma': 0, 'colsample_bytree': 0.8}, mean_accuracy=0.9218, std_accuracy=0.0054]\n",
      "🏃 View run Trial_5 at: https://dagshub.com/JavithNaseem-J/E2E-Credit-Fraud-Detection.mlflow/#/experiments/0/runs/327af00da88940c3b3ed54696af1aaec\n",
      "🧪 View experiment at: https://dagshub.com/JavithNaseem-J/E2E-Credit-Fraud-Detection.mlflow/#/experiments/0\n",
      "[2025-04-21 17:46:21,878: INFO: 744370784: Trial 6: params={'subsample': 0.9, 'reg_lambda': 0.1, 'reg_alpha': 0, 'n_estimators': 500, 'min_child_weight': 1, 'max_depth': 7, 'learning_rate': 0.01, 'gamma': 0.2, 'colsample_bytree': 0.8}, mean_accuracy=0.8440, std_accuracy=0.0062]\n",
      "🏃 View run Trial_6 at: https://dagshub.com/JavithNaseem-J/E2E-Credit-Fraud-Detection.mlflow/#/experiments/0/runs/ebfb98174a3943968ee78db2f606b004\n",
      "🧪 View experiment at: https://dagshub.com/JavithNaseem-J/E2E-Credit-Fraud-Detection.mlflow/#/experiments/0\n",
      "[2025-04-21 17:46:28,885: INFO: 744370784: Trial 7: params={'subsample': 0.7, 'reg_lambda': 1.0, 'reg_alpha': 0.5, 'n_estimators': 500, 'min_child_weight': 1, 'max_depth': 3, 'learning_rate': 0.1, 'gamma': 0.1, 'colsample_bytree': 0.8}, mean_accuracy=0.9112, std_accuracy=0.0052]\n",
      "🏃 View run Trial_7 at: https://dagshub.com/JavithNaseem-J/E2E-Credit-Fraud-Detection.mlflow/#/experiments/0/runs/e62290f22a5a46d9a3184549ffd6c792\n",
      "🧪 View experiment at: https://dagshub.com/JavithNaseem-J/E2E-Credit-Fraud-Detection.mlflow/#/experiments/0\n",
      "[2025-04-21 17:46:35,910: INFO: 744370784: Trial 8: params={'subsample': 0.7, 'reg_lambda': 1.0, 'reg_alpha': 0, 'n_estimators': 50, 'min_child_weight': 3, 'max_depth': 7, 'learning_rate': 0.05, 'gamma': 0.1, 'colsample_bytree': 0.7}, mean_accuracy=0.7939, std_accuracy=0.0033]\n",
      "🏃 View run Trial_8 at: https://dagshub.com/JavithNaseem-J/E2E-Credit-Fraud-Detection.mlflow/#/experiments/0/runs/6045d1066cbb43179872c11f5f38249d\n",
      "🧪 View experiment at: https://dagshub.com/JavithNaseem-J/E2E-Credit-Fraud-Detection.mlflow/#/experiments/0\n",
      "[2025-04-21 17:46:42,908: INFO: 744370784: Trial 9: params={'subsample': 1.0, 'reg_lambda': 0, 'reg_alpha': 0.1, 'n_estimators': 50, 'min_child_weight': 3, 'max_depth': 10, 'learning_rate': 0.2, 'gamma': 0.2, 'colsample_bytree': 0.9}, mean_accuracy=0.9278, std_accuracy=0.0050]\n",
      "🏃 View run Trial_9 at: https://dagshub.com/JavithNaseem-J/E2E-Credit-Fraud-Detection.mlflow/#/experiments/0/runs/a7a6cf43b09944d49b9669e226cef1fd\n",
      "🧪 View experiment at: https://dagshub.com/JavithNaseem-J/E2E-Credit-Fraud-Detection.mlflow/#/experiments/0\n",
      "[2025-04-21 17:46:49,917: INFO: 744370784: Trial 10: params={'subsample': 0.8, 'reg_lambda': 0.1, 'reg_alpha': 0.5, 'n_estimators': 200, 'min_child_weight': 5, 'max_depth': 5, 'learning_rate': 0.1, 'gamma': 0.2, 'colsample_bytree': 0.8}, mean_accuracy=0.9130, std_accuracy=0.0049]\n",
      "🏃 View run Trial_10 at: https://dagshub.com/JavithNaseem-J/E2E-Credit-Fraud-Detection.mlflow/#/experiments/0/runs/2a64b208ba5d42319e217acce84a303c\n",
      "🧪 View experiment at: https://dagshub.com/JavithNaseem-J/E2E-Credit-Fraud-Detection.mlflow/#/experiments/0\n"
     ]
    },
    {
     "name": "stderr",
     "output_type": "stream",
     "text": [
      "f:\\ProgramFiles\\anaconda3\\envs\\credit-fraud\\lib\\site-packages\\xgboost\\core.py:158: UserWarning: [17:46:51] WARNING: C:\\buildkite-agent\\builds\\buildkite-windows-cpu-autoscaling-group-i-08cbc0333d8d4aae1-1\\xgboost\\xgboost-ci-windows\\src\\c_api\\c_api.cc:1374: Saving model in the UBJSON format as default.  You can use file extension: `json`, `ubj` or `deprecated` to choose between formats.\n",
      "  warnings.warn(smsg, UserWarning)\n",
      "2025/04/21 17:46:57 WARNING mlflow.models.model: Model logged without a signature and input example. Please set `input_example` parameter when logging the model to auto infer the model signature.\n",
      "Registered model 'XGBClassifier_CreditFraud' already exists. Creating a new version of this model...\n",
      "2025/04/21 17:47:02 INFO mlflow.store.model_registry.abstract_store: Waiting up to 300 seconds for model version to finish creation. Model name: XGBClassifier_CreditFraud, version 4\n"
     ]
    },
    {
     "name": "stdout",
     "output_type": "stream",
     "text": [
      "[2025-04-21 17:47:02,457: INFO: 744370784: Best model logged to MLflow]\n",
      "[2025-04-21 17:47:02,488: INFO: 744370784: Model saved locally at artifacts/model_trainer\\model.joblib]\n"
     ]
    },
    {
     "name": "stderr",
     "output_type": "stream",
     "text": [
      "Created version '4' of model 'XGBClassifier_CreditFraud'.\n"
     ]
    },
    {
     "name": "stdout",
     "output_type": "stream",
     "text": [
      "🏃 View run RandomizedSearchCV_Tuning at: https://dagshub.com/JavithNaseem-J/E2E-Credit-Fraud-Detection.mlflow/#/experiments/0/runs/10826f683c964054b9c232ab7a461e02\n",
      "🧪 View experiment at: https://dagshub.com/JavithNaseem-J/E2E-Credit-Fraud-Detection.mlflow/#/experiments/0\n"
     ]
    }
   ],
   "source": [
    "try:\n",
    "    config = ConfigurationManager()\n",
    "    model_trainer_config = config.get_model_training_config()\n",
    "    model_trainer = ModelTrainer(config=model_trainer_config)\n",
    "    model_trainer.train()\n",
    "    \n",
    "except FileNotFoundError as e:\n",
    "    logger.error(f'File Not Found: {e}')\n",
    "except KeyError as e:\n",
    "    logger.error(f'Key Error: {e}')\n",
    "except AttributeError as e:\n",
    "    logger.error(f'Attribute Error: {e}')\n",
    "except Exception as e:\n",
    "    logger.error(f'Unexpected error: {e}')"
   ]
  }
 ],
 "metadata": {
  "kernelspec": {
   "display_name": "credit-fraud",
   "language": "python",
   "name": "python3"
  },
  "language_info": {
   "codemirror_mode": {
    "name": "ipython",
    "version": 3
   },
   "file_extension": ".py",
   "mimetype": "text/x-python",
   "name": "python",
   "nbconvert_exporter": "python",
   "pygments_lexer": "ipython3",
   "version": "3.10.16"
  }
 },
 "nbformat": 4,
 "nbformat_minor": 2
}
