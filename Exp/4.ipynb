{
 "cells": [
  {
   "cell_type": "code",
   "execution_count": 1,
   "metadata": {},
   "outputs": [],
   "source": [
    "import os"
   ]
  },
  {
   "cell_type": "code",
   "execution_count": 2,
   "metadata": {},
   "outputs": [
    {
     "data": {
      "text/plain": [
       "'f:\\\\Files\\\\DS&ML\\\\E2E-Credit-Fraud-Detection\\\\Exp'"
      ]
     },
     "execution_count": 2,
     "metadata": {},
     "output_type": "execute_result"
    }
   ],
   "source": [
    "pwd%%"
   ]
  },
  {
   "cell_type": "code",
   "execution_count": 3,
   "metadata": {},
   "outputs": [],
   "source": [
    "os.chdir(\"../\")"
   ]
  },
  {
   "cell_type": "code",
   "execution_count": 4,
   "metadata": {},
   "outputs": [
    {
     "data": {
      "text/plain": [
       "'f:\\\\Files\\\\DS&ML\\\\E2E-Credit-Fraud-Detection'"
      ]
     },
     "execution_count": 4,
     "metadata": {},
     "output_type": "execute_result"
    }
   ],
   "source": [
    "pwd%%"
   ]
  },
  {
   "cell_type": "code",
   "execution_count": 5,
   "metadata": {},
   "outputs": [],
   "source": [
    "from dataclasses import dataclass\n",
    "from pathlib import Path"
   ]
  },
  {
   "cell_type": "code",
   "execution_count": 6,
   "metadata": {},
   "outputs": [],
   "source": [
    "@dataclass(frozen=True)\n",
    "class ModelTrainerConfig:\n",
    "    root_dir: Path\n",
    "    train_preprocess: Path\n",
    "    test_preprocess: Path\n",
    "    model_name: str\n",
    "    target_column: str\n",
    "    random_search_params: dict\n",
    "    n_iter: int     \n",
    "    cv_folds: int\n",
    "    scoring: str \n",
    "    n_jobs: int"
   ]
  },
  {
   "cell_type": "code",
   "execution_count": 7,
   "metadata": {},
   "outputs": [],
   "source": [
    "from project.constants import *\n",
    "from project.utils.common import *"
   ]
  },
  {
   "cell_type": "code",
   "execution_count": 8,
   "metadata": {},
   "outputs": [],
   "source": [
    "import os\n",
    "import joblib   \n",
    "import numpy as np\n",
    "import mlflow\n",
    "import mlflow.xgboost\n",
    "from xgboost import XGBClassifier\n",
    "from sklearn.model_selection import RandomizedSearchCV\n",
    "import dagshub\n",
    "from project import logger\n",
    "from project.entity.config_entity import ModelTrainerConfig\n",
    "\n",
    "class ConfigurationManager:\n",
    "    def __init__(self,\n",
    "                config_filepath=CONFIG_PATH,\n",
    "                schema_filepath=SCHEMA_PATH,\n",
    "                params_filepath=PARAMS_PATH):\n",
    "        \n",
    "        self.config = read_yaml(config_filepath)\n",
    "        self.schema = read_yaml(schema_filepath)\n",
    "        self.params = read_yaml(params_filepath)\n",
    "\n",
    "        create_directories([self.config.artifacts_root])\n",
    "\n",
    "    def get_model_training_config(self) -> ModelTrainerConfig:\n",
    "        config = self.config.model_trainer\n",
    "        params = self.params.XGBClassifier\n",
    "        schema = self.schema\n",
    "        random_search_params = params.random_search\n",
    "        cv_params = params.cross_validation\n",
    "\n",
    "        create_directories([config.root_dir])\n",
    "\n",
    "        model_trainer_config = ModelTrainerConfig(\n",
    "            root_dir=config.root_dir,\n",
    "            train_preprocess=config.train_preprocess,\n",
    "            test_preprocess=config.test_preprocess,\n",
    "            model_name=config.model_name,\n",
    "            target_column=schema.target_column.name,\n",
    "            random_search_params=random_search_params, \n",
    "            cv_folds=cv_params.cv_folds,            \n",
    "            scoring=cv_params.scoring,             \n",
    "            n_jobs=cv_params.n_jobs,\n",
    "            n_iter=cv_params.n_iter          \n",
    "        )\n",
    "        \n",
    "        return model_trainer_config "
   ]
  },
  {
   "cell_type": "code",
   "execution_count": null,
   "metadata": {},
   "outputs": [
    {
     "name": "stderr",
     "output_type": "stream",
     "text": [
      "f:\\ProgramFiles\\anaconda3\\envs\\credit-fraud\\lib\\site-packages\\tqdm\\auto.py:21: TqdmWarning: IProgress not found. Please update jupyter and ipywidgets. See https://ipywidgets.readthedocs.io/en/stable/user_install.html\n",
      "  from .autonotebook import tqdm as notebook_tqdm\n"
     ]
    }
   ],
   "source": [
    "from sklearn.model_selection import StratifiedKFold\n",
    "import optuna\n",
    "\n",
    "class ModelTrainer:\n",
    "    def __init__(self, config: ModelTrainerConfig):\n",
    "        self.config = config\n",
    "        dagshub.init(repo_owner=\"JavithNaseem-J\", repo_name=\"E2E-Credit-Fraud-Detection\")\n",
    "        mlflow.set_tracking_uri(\"https://dagshub.com/JavithNaseem-J/E2E-Credit-Fraud-Detection.mlflow\")\n",
    "        mlflow.set_experiment(\"E2E-Credit-Fraud-Detection\")\n",
    "\n",
    "    def train(self):\n",
    "        # Validate file paths\n",
    "        if not os.path.exists(self.config.train_preprocess):\n",
    "            logger.error(f\"Train preprocessed file not found at: {self.config.train_preprocess}\")\n",
    "            raise FileNotFoundError(\"Train preprocessed file not found\")\n",
    "        if not os.path.exists(self.config.test_preprocess):\n",
    "            logger.error(f\"Test preprocessed file not found at: {self.config.test_preprocess}\")\n",
    "            raise FileNotFoundError(\"Test preprocessed file not found\")\n",
    "\n",
    "        # Load preprocessed data\n",
    "        train_data = np.load(self.config.train_preprocess, allow_pickle=True)\n",
    "        test_data = np.load(self.config.test_preprocess, allow_pickle=True)\n",
    "\n",
    "        logger.info(f'Loaded train and test data')\n",
    "        logger.info(f'Train data shape: {train_data.shape}')\n",
    "        logger.info(f'Test data shape: {test_data.shape}')\n",
    "\n",
    "        train_x = train_data[:, :-1]\n",
    "        train_y = train_data[:, -1]\n",
    "        test_x = test_data[:, :-1]\n",
    "        test_y = test_data[:, -1]\n",
    "\n",
    "        # Optuna Optimization\n",
    "        mlflow.xgboost.autolog()\n",
    "        with mlflow.start_run(run_name=\"Optuna_HPO\") as parent_run:\n",
    "            parent_run_id = parent_run.info.run_id\n",
    "            mlflow.set_tag(\"run_type\", \"hyperparameter_tuning\")\n",
    "            mlflow.set_tag(\"model\", \"XGBClassifier\")\n",
    "\n",
    "            def get_search_space(trial):\n",
    "                return {\n",
    "                    \"n_estimators\": trial.suggest_int(\"n_estimators\", 50, 500),\n",
    "                    \"learning_rate\": trial.suggest_float(\"learning_rate\", 0.01, 0.3),\n",
    "                    \"max_depth\": trial.suggest_int(\"max_depth\", 3, 10),\n",
    "                    \"min_child_weight\": trial.suggest_int(\"min_child_weight\", 1, 7),\n",
    "                    \"gamma\": trial.suggest_float(\"gamma\", 0.0, 0.3),\n",
    "                    \"subsample\": trial.suggest_float(\"subsample\", 0.7, 1.0),\n",
    "                    \"colsample_bytree\": trial.suggest_float(\"colsample_bytree\", 0.7, 1.0),\n",
    "                    \"reg_alpha\": trial.suggest_float(\"reg_alpha\", 0.0, 1.0),\n",
    "                    \"reg_lambda\": trial.suggest_float(\"reg_lambda\", 0.0, 1.0),\n",
    "                }\n",
    "\n",
    "            def objective(trial):\n",
    "                with mlflow.start_run(run_name=f\"Trial_{trial.number}\", nested=True):\n",
    "                    mlflow.set_tag(\"mlflow.parentRunId\", parent_run_id)\n",
    "                    mlflow.set_tag(\"trial_number\", trial.number)\n",
    "\n",
    "                    params = get_search_space(trial)\n",
    "\n",
    "                    model = XGBClassifier(\n",
    "                        objective='binary:logistic',\n",
    "                        verbosity=0,\n",
    "                        eval_metric='logloss',\n",
    "                        use_label_encoder=False,\n",
    "                        **params\n",
    "                    )\n",
    "\n",
    "                    cv = StratifiedKFold(n_splits=self.config.cv_folds, shuffle=True, random_state=42)\n",
    "                    cv_scores = cross_val_score(model, train_x, train_y, scoring=self.config.scoring, cv=cv, n_jobs=self.config.n_jobs)\n",
    "\n",
    "                    mean_score = cv_scores.mean()\n",
    "                    std_score = cv_scores.std()\n",
    "\n",
    "                    mlflow.log_params(params)\n",
    "                    mlflow.log_metric(\"cv_mean_accuracy\", mean_score)\n",
    "                    mlflow.log_metric(\"cv_std_accuracy\", std_score)\n",
    "\n",
    "                    logger.info(f\"Trial {trial.number}: cv_mean_accuracy={mean_score:.4f} (+/- {std_score:.4f}), params={params}\")\n",
    "\n",
    "                    return mean_score\n",
    "\n",
    "            logger.info('>>>>>>>>>> Starting Optuna Study <<<<<<<<<')\n",
    "\n",
    "            study = optuna.create_study(direction=\"maximize\")\n",
    "            study.optimize(objective, n_trials=self.config.n_iter)\n",
    "\n",
    "            logger.info(f\"Best trial found: {study.best_trial.params} with accuracy {study.best_trial.value:.4f}\")\n",
    "\n",
    "            # Retrain best model on full training data\n",
    "            best_params = study.best_trial.params\n",
    "            best_model = XGBClassifier(\n",
    "                objective='binary:logistic',\n",
    "                verbosity=0,\n",
    "                eval_metric='logloss',\n",
    "                use_label_encoder=False,\n",
    "                **best_params\n",
    "            )\n",
    "            best_model.fit(train_x, train_y)\n",
    "\n",
    "            mlflow.xgboost.log_model(\n",
    "                xgb_model=best_model,\n",
    "                artifact_path=\"xgboost_model\",\n",
    "                registered_model_name=\"XGBClassifier_CreditFraud_Optuna\"\n",
    "            )\n",
    "            logger.info(\"Best model logged to MLflow\")\n",
    "\n",
    "            # Save the model locally\n",
    "            model_path = os.path.join(self.config.root_dir, self.config.model_name)\n",
    "            joblib.dump(best_model, model_path)\n",
    "            logger.info(f'Best model saved locally at {model_path}')\n"
   ]
  },
  {
   "cell_type": "code",
   "execution_count": 10,
   "metadata": {},
   "outputs": [
    {
     "name": "stdout",
     "output_type": "stream",
     "text": [
      "[2025-04-25 15:59:29,088: INFO: common: yaml file: yaml file\\config.yaml loaded successfully]\n",
      "[2025-04-25 15:59:29,099: INFO: common: yaml file: yaml file\\schema.yaml loaded successfully]\n",
      "[2025-04-25 15:59:29,111: INFO: common: yaml file: yaml file\\params.yaml loaded successfully]\n",
      "[2025-04-25 15:59:29,111: INFO: common: created directory at: artifacts]\n",
      "[2025-04-25 15:59:29,111: INFO: common: created directory at: artifacts/model_trainer]\n",
      "[2025-04-25 15:59:29,510: INFO: _client: HTTP Request: GET https://dagshub.com/api/v1/user \"HTTP/1.1 200 OK\"]\n"
     ]
    },
    {
     "data": {
      "text/html": [
       "<pre style=\"white-space:pre;overflow-x:auto;line-height:normal;font-family:Menlo,'DejaVu Sans Mono',consolas,'Courier New',monospace\">Accessing as JavithNaseem-J\n",
       "</pre>\n"
      ],
      "text/plain": [
       "Accessing as JavithNaseem-J\n"
      ]
     },
     "metadata": {},
     "output_type": "display_data"
    },
    {
     "name": "stdout",
     "output_type": "stream",
     "text": [
      "[2025-04-25 15:59:29,527: INFO: helpers: Accessing as JavithNaseem-J]\n",
      "[2025-04-25 15:59:30,023: INFO: _client: HTTP Request: GET https://dagshub.com/api/v1/repos/JavithNaseem-J/E2E-Credit-Fraud-Detection \"HTTP/1.1 200 OK\"]\n",
      "[2025-04-25 15:59:30,434: INFO: _client: HTTP Request: GET https://dagshub.com/api/v1/user \"HTTP/1.1 200 OK\"]\n"
     ]
    },
    {
     "data": {
      "text/html": [
       "<pre style=\"white-space:pre;overflow-x:auto;line-height:normal;font-family:Menlo,'DejaVu Sans Mono',consolas,'Courier New',monospace\">Initialized MLflow to track repo <span style=\"color: #008000; text-decoration-color: #008000\">\"JavithNaseem-J/E2E-Credit-Fraud-Detection\"</span>\n",
       "</pre>\n"
      ],
      "text/plain": [
       "Initialized MLflow to track repo \u001b[32m\"JavithNaseem-J/E2E-Credit-Fraud-Detection\"\u001b[0m\n"
      ]
     },
     "metadata": {},
     "output_type": "display_data"
    },
    {
     "name": "stdout",
     "output_type": "stream",
     "text": [
      "[2025-04-25 15:59:30,444: INFO: helpers: Initialized MLflow to track repo \"JavithNaseem-J/E2E-Credit-Fraud-Detection\"]\n"
     ]
    },
    {
     "data": {
      "text/html": [
       "<pre style=\"white-space:pre;overflow-x:auto;line-height:normal;font-family:Menlo,'DejaVu Sans Mono',consolas,'Courier New',monospace\">Repository JavithNaseem-J/E2E-Credit-Fraud-Detection initialized!\n",
       "</pre>\n"
      ],
      "text/plain": [
       "Repository JavithNaseem-J/E2E-Credit-Fraud-Detection initialized!\n"
      ]
     },
     "metadata": {},
     "output_type": "display_data"
    },
    {
     "name": "stdout",
     "output_type": "stream",
     "text": [
      "[2025-04-25 15:59:30,449: INFO: helpers: Repository JavithNaseem-J/E2E-Credit-Fraud-Detection initialized!]\n",
      "[2025-04-25 15:59:31,272: INFO: 3253257748: Loaded train and test data]\n",
      "[2025-04-25 15:59:31,272: INFO: 3253257748: Train data shape: (69840, 10)]\n",
      "[2025-04-25 15:59:31,280: INFO: 3253257748: Test data shape: (17460, 10)]\n",
      "[2025-04-25 15:59:32,690: INFO: 3253257748: >>>>>>>>>> Starting Optuna Study <<<<<<<<<]\n"
     ]
    },
    {
     "name": "stderr",
     "output_type": "stream",
     "text": [
      "[I 2025-04-25 15:59:32,690] A new study created in memory with name: no-name-7ee6c9a9-6d24-4b88-9af1-3497690184d8\n"
     ]
    },
    {
     "name": "stdout",
     "output_type": "stream",
     "text": [
      "[2025-04-25 15:59:50,410: INFO: 3253257748: Trial 0: cv_mean_accuracy=0.9445 (+/- 0.0021), params={'n_estimators': 248, 'learning_rate': 0.2539801749589485, 'max_depth': 10, 'min_child_weight': 4, 'gamma': 0.07846900381764957, 'subsample': 0.8293916132116326, 'colsample_bytree': 0.7578800050308805, 'reg_alpha': 0.8378420744910252, 'reg_lambda': 0.8332734755888621}]\n",
      "🏃 View run Trial_0 at: https://dagshub.com/JavithNaseem-J/E2E-Credit-Fraud-Detection.mlflow/#/experiments/0/runs/be77dcad715d435abaa53352290bba9b\n",
      "🧪 View experiment at: https://dagshub.com/JavithNaseem-J/E2E-Credit-Fraud-Detection.mlflow/#/experiments/0\n"
     ]
    },
    {
     "name": "stderr",
     "output_type": "stream",
     "text": [
      "[I 2025-04-25 15:59:51,539] Trial 0 finished with value: 0.9444730813287514 and parameters: {'n_estimators': 248, 'learning_rate': 0.2539801749589485, 'max_depth': 10, 'min_child_weight': 4, 'gamma': 0.07846900381764957, 'subsample': 0.8293916132116326, 'colsample_bytree': 0.7578800050308805, 'reg_alpha': 0.8378420744910252, 'reg_lambda': 0.8332734755888621}. Best is trial 0 with value: 0.9444730813287514.\n"
     ]
    },
    {
     "name": "stdout",
     "output_type": "stream",
     "text": [
      "[2025-04-25 16:00:18,358: INFO: 3253257748: Trial 1: cv_mean_accuracy=0.9319 (+/- 0.0026), params={'n_estimators': 397, 'learning_rate': 0.23837909749084357, 'max_depth': 5, 'min_child_weight': 1, 'gamma': 0.16062737226357746, 'subsample': 0.7710225981587043, 'colsample_bytree': 0.9887389190092412, 'reg_alpha': 0.024932945946752327, 'reg_lambda': 0.45944698550594143}]\n",
      "🏃 View run Trial_1 at: https://dagshub.com/JavithNaseem-J/E2E-Credit-Fraud-Detection.mlflow/#/experiments/0/runs/ecf317a727c24d98b8e0d7a25244c1ef\n",
      "🧪 View experiment at: https://dagshub.com/JavithNaseem-J/E2E-Credit-Fraud-Detection.mlflow/#/experiments/0\n"
     ]
    },
    {
     "name": "stderr",
     "output_type": "stream",
     "text": [
      "[I 2025-04-25 16:00:19,392] Trial 1 finished with value: 0.9318871706758305 and parameters: {'n_estimators': 397, 'learning_rate': 0.23837909749084357, 'max_depth': 5, 'min_child_weight': 1, 'gamma': 0.16062737226357746, 'subsample': 0.7710225981587043, 'colsample_bytree': 0.9887389190092412, 'reg_alpha': 0.024932945946752327, 'reg_lambda': 0.45944698550594143}. Best is trial 0 with value: 0.9444730813287514.\n"
     ]
    },
    {
     "name": "stdout",
     "output_type": "stream",
     "text": [
      "[2025-04-25 16:00:25,274: INFO: 3253257748: Trial 2: cv_mean_accuracy=0.9349 (+/- 0.0019), params={'n_estimators': 139, 'learning_rate': 0.10601173287165241, 'max_depth': 10, 'min_child_weight': 1, 'gamma': 0.2640750125112365, 'subsample': 0.7210161443027889, 'colsample_bytree': 0.7947776141376546, 'reg_alpha': 0.9683102177637969, 'reg_lambda': 0.5450082795324046}]\n",
      "🏃 View run Trial_2 at: https://dagshub.com/JavithNaseem-J/E2E-Credit-Fraud-Detection.mlflow/#/experiments/0/runs/60322f944d494d468c638baa51db59c9\n",
      "🧪 View experiment at: https://dagshub.com/JavithNaseem-J/E2E-Credit-Fraud-Detection.mlflow/#/experiments/0\n"
     ]
    },
    {
     "name": "stderr",
     "output_type": "stream",
     "text": [
      "[I 2025-04-25 16:00:26,135] Trial 2 finished with value: 0.9348654066437572 and parameters: {'n_estimators': 139, 'learning_rate': 0.10601173287165241, 'max_depth': 10, 'min_child_weight': 1, 'gamma': 0.2640750125112365, 'subsample': 0.7210161443027889, 'colsample_bytree': 0.7947776141376546, 'reg_alpha': 0.9683102177637969, 'reg_lambda': 0.5450082795324046}. Best is trial 0 with value: 0.9444730813287514.\n"
     ]
    },
    {
     "name": "stdout",
     "output_type": "stream",
     "text": [
      "[2025-04-25 16:00:33,409: INFO: 3253257748: Trial 3: cv_mean_accuracy=0.9452 (+/- 0.0016), params={'n_estimators': 378, 'learning_rate': 0.25229404420160845, 'max_depth': 10, 'min_child_weight': 2, 'gamma': 0.07690507353035689, 'subsample': 0.998873914960003, 'colsample_bytree': 0.9471917148943463, 'reg_alpha': 0.36705792151218763, 'reg_lambda': 0.47540186707119947}]\n",
      "🏃 View run Trial_3 at: https://dagshub.com/JavithNaseem-J/E2E-Credit-Fraud-Detection.mlflow/#/experiments/0/runs/5f9a76d5d03a4c35a232c6e2261c531b\n",
      "🧪 View experiment at: https://dagshub.com/JavithNaseem-J/E2E-Credit-Fraud-Detection.mlflow/#/experiments/0\n"
     ]
    },
    {
     "name": "stderr",
     "output_type": "stream",
     "text": [
      "[I 2025-04-25 16:00:34,226] Trial 3 finished with value: 0.945189003436426 and parameters: {'n_estimators': 378, 'learning_rate': 0.25229404420160845, 'max_depth': 10, 'min_child_weight': 2, 'gamma': 0.07690507353035689, 'subsample': 0.998873914960003, 'colsample_bytree': 0.9471917148943463, 'reg_alpha': 0.36705792151218763, 'reg_lambda': 0.47540186707119947}. Best is trial 3 with value: 0.945189003436426.\n"
     ]
    },
    {
     "name": "stdout",
     "output_type": "stream",
     "text": [
      "[2025-04-25 16:00:40,578: INFO: 3253257748: Trial 4: cv_mean_accuracy=0.9199 (+/- 0.0019), params={'n_estimators': 216, 'learning_rate': 0.036720848045280266, 'max_depth': 9, 'min_child_weight': 2, 'gamma': 0.18965562012923315, 'subsample': 0.7030797223157366, 'colsample_bytree': 0.9299490091757023, 'reg_alpha': 0.022861105903662304, 'reg_lambda': 0.7667977166921243}]\n",
      "🏃 View run Trial_4 at: https://dagshub.com/JavithNaseem-J/E2E-Credit-Fraud-Detection.mlflow/#/experiments/0/runs/0d5fefcf5f1a4dd88991d6b858e0708d\n",
      "🧪 View experiment at: https://dagshub.com/JavithNaseem-J/E2E-Credit-Fraud-Detection.mlflow/#/experiments/0\n"
     ]
    },
    {
     "name": "stderr",
     "output_type": "stream",
     "text": [
      "[I 2025-04-25 16:00:41,393] Trial 4 finished with value: 0.9198883161512027 and parameters: {'n_estimators': 216, 'learning_rate': 0.036720848045280266, 'max_depth': 9, 'min_child_weight': 2, 'gamma': 0.18965562012923315, 'subsample': 0.7030797223157366, 'colsample_bytree': 0.9299490091757023, 'reg_alpha': 0.022861105903662304, 'reg_lambda': 0.7667977166921243}. Best is trial 3 with value: 0.945189003436426.\n"
     ]
    },
    {
     "name": "stdout",
     "output_type": "stream",
     "text": [
      "[2025-04-25 16:00:47,026: INFO: 3253257748: Trial 5: cv_mean_accuracy=0.9239 (+/- 0.0034), params={'n_estimators': 249, 'learning_rate': 0.08311372726655901, 'max_depth': 7, 'min_child_weight': 3, 'gamma': 0.2923783829013882, 'subsample': 0.9007838288122968, 'colsample_bytree': 0.9161267183958047, 'reg_alpha': 0.2845225727958941, 'reg_lambda': 0.42482126485769867}]\n",
      "🏃 View run Trial_5 at: https://dagshub.com/JavithNaseem-J/E2E-Credit-Fraud-Detection.mlflow/#/experiments/0/runs/9776d9e79cc34c3791770befb67bbe98\n",
      "🧪 View experiment at: https://dagshub.com/JavithNaseem-J/E2E-Credit-Fraud-Detection.mlflow/#/experiments/0\n"
     ]
    },
    {
     "name": "stderr",
     "output_type": "stream",
     "text": [
      "[I 2025-04-25 16:00:47,776] Trial 5 finished with value: 0.9238545246277206 and parameters: {'n_estimators': 249, 'learning_rate': 0.08311372726655901, 'max_depth': 7, 'min_child_weight': 3, 'gamma': 0.2923783829013882, 'subsample': 0.9007838288122968, 'colsample_bytree': 0.9161267183958047, 'reg_alpha': 0.2845225727958941, 'reg_lambda': 0.42482126485769867}. Best is trial 3 with value: 0.945189003436426.\n"
     ]
    },
    {
     "name": "stdout",
     "output_type": "stream",
     "text": [
      "[2025-04-25 16:00:56,860: INFO: 3253257748: Trial 6: cv_mean_accuracy=0.9203 (+/- 0.0028), params={'n_estimators': 486, 'learning_rate': 0.030085634502071995, 'max_depth': 8, 'min_child_weight': 7, 'gamma': 0.003014816516820318, 'subsample': 0.875698327374931, 'colsample_bytree': 0.9138334303133131, 'reg_alpha': 0.245145357991975, 'reg_lambda': 0.16975533675788834}]\n",
      "🏃 View run Trial_6 at: https://dagshub.com/JavithNaseem-J/E2E-Credit-Fraud-Detection.mlflow/#/experiments/0/runs/299814319556483fb158c4664e426692\n",
      "🧪 View experiment at: https://dagshub.com/JavithNaseem-J/E2E-Credit-Fraud-Detection.mlflow/#/experiments/0\n"
     ]
    },
    {
     "name": "stderr",
     "output_type": "stream",
     "text": [
      "[I 2025-04-25 16:00:57,984] Trial 6 finished with value: 0.9203321878579611 and parameters: {'n_estimators': 486, 'learning_rate': 0.030085634502071995, 'max_depth': 8, 'min_child_weight': 7, 'gamma': 0.003014816516820318, 'subsample': 0.875698327374931, 'colsample_bytree': 0.9138334303133131, 'reg_alpha': 0.245145357991975, 'reg_lambda': 0.16975533675788834}. Best is trial 3 with value: 0.945189003436426.\n"
     ]
    },
    {
     "name": "stdout",
     "output_type": "stream",
     "text": [
      "[2025-04-25 16:01:05,047: INFO: 3253257748: Trial 7: cv_mean_accuracy=0.9422 (+/- 0.0018), params={'n_estimators': 281, 'learning_rate': 0.19018490120071282, 'max_depth': 9, 'min_child_weight': 6, 'gamma': 0.19026878637255162, 'subsample': 0.8088655106622599, 'colsample_bytree': 0.7784582461574728, 'reg_alpha': 0.543430548980086, 'reg_lambda': 0.8017865205536976}]\n",
      "🏃 View run Trial_7 at: https://dagshub.com/JavithNaseem-J/E2E-Credit-Fraud-Detection.mlflow/#/experiments/0/runs/329f8ba36e1b43648ef910befed87171\n",
      "🧪 View experiment at: https://dagshub.com/JavithNaseem-J/E2E-Credit-Fraud-Detection.mlflow/#/experiments/0\n"
     ]
    },
    {
     "name": "stderr",
     "output_type": "stream",
     "text": [
      "[I 2025-04-25 16:01:05,861] Trial 7 finished with value: 0.942225085910653 and parameters: {'n_estimators': 281, 'learning_rate': 0.19018490120071282, 'max_depth': 9, 'min_child_weight': 6, 'gamma': 0.19026878637255162, 'subsample': 0.8088655106622599, 'colsample_bytree': 0.7784582461574728, 'reg_alpha': 0.543430548980086, 'reg_lambda': 0.8017865205536976}. Best is trial 3 with value: 0.945189003436426.\n"
     ]
    },
    {
     "name": "stdout",
     "output_type": "stream",
     "text": [
      "[2025-04-25 16:01:13,654: INFO: 3253257748: Trial 8: cv_mean_accuracy=0.9419 (+/- 0.0011), params={'n_estimators': 336, 'learning_rate': 0.2527827873409818, 'max_depth': 10, 'min_child_weight': 7, 'gamma': 0.2560010331982991, 'subsample': 0.9125237486643982, 'colsample_bytree': 0.8741753416226687, 'reg_alpha': 0.03873694411835471, 'reg_lambda': 0.7614800882309996}]\n",
      "🏃 View run Trial_8 at: https://dagshub.com/JavithNaseem-J/E2E-Credit-Fraud-Detection.mlflow/#/experiments/0/runs/9985dd592855477db0ddebd39aa37825\n",
      "🧪 View experiment at: https://dagshub.com/JavithNaseem-J/E2E-Credit-Fraud-Detection.mlflow/#/experiments/0\n"
     ]
    },
    {
     "name": "stderr",
     "output_type": "stream",
     "text": [
      "[I 2025-04-25 16:01:14,464] Trial 8 finished with value: 0.9418671248568156 and parameters: {'n_estimators': 336, 'learning_rate': 0.2527827873409818, 'max_depth': 10, 'min_child_weight': 7, 'gamma': 0.2560010331982991, 'subsample': 0.9125237486643982, 'colsample_bytree': 0.8741753416226687, 'reg_alpha': 0.03873694411835471, 'reg_lambda': 0.7614800882309996}. Best is trial 3 with value: 0.945189003436426.\n"
     ]
    },
    {
     "name": "stdout",
     "output_type": "stream",
     "text": [
      "[2025-04-25 16:01:21,844: INFO: 3253257748: Trial 9: cv_mean_accuracy=0.9263 (+/- 0.0031), params={'n_estimators': 426, 'learning_rate': 0.08331645298612107, 'max_depth': 6, 'min_child_weight': 2, 'gamma': 0.297655040234989, 'subsample': 0.9040966446784174, 'colsample_bytree': 0.8626722396587188, 'reg_alpha': 0.7312143447392926, 'reg_lambda': 0.5720630543979316}]\n",
      "🏃 View run Trial_9 at: https://dagshub.com/JavithNaseem-J/E2E-Credit-Fraud-Detection.mlflow/#/experiments/0/runs/6d7c004425664daa85e367fa4f7dfba5\n",
      "🧪 View experiment at: https://dagshub.com/JavithNaseem-J/E2E-Credit-Fraud-Detection.mlflow/#/experiments/0\n"
     ]
    },
    {
     "name": "stderr",
     "output_type": "stream",
     "text": [
      "[I 2025-04-25 16:01:22,663] Trial 9 finished with value: 0.9263459335624284 and parameters: {'n_estimators': 426, 'learning_rate': 0.08331645298612107, 'max_depth': 6, 'min_child_weight': 2, 'gamma': 0.297655040234989, 'subsample': 0.9040966446784174, 'colsample_bytree': 0.8626722396587188, 'reg_alpha': 0.7312143447392926, 'reg_lambda': 0.5720630543979316}. Best is trial 3 with value: 0.945189003436426.\n"
     ]
    },
    {
     "name": "stdout",
     "output_type": "stream",
     "text": [
      "[2025-04-25 16:01:22,663: INFO: 3253257748: Best trial found: {'n_estimators': 378, 'learning_rate': 0.25229404420160845, 'max_depth': 10, 'min_child_weight': 2, 'gamma': 0.07690507353035689, 'subsample': 0.998873914960003, 'colsample_bytree': 0.9471917148943463, 'reg_alpha': 0.36705792151218763, 'reg_lambda': 0.47540186707119947} with accuracy 0.9452]\n"
     ]
    },
    {
     "name": "stderr",
     "output_type": "stream",
     "text": [
      "2025/04/25 16:01:29 WARNING mlflow.utils.autologging_utils: MLflow autologging encountered a warning: \"f:\\ProgramFiles\\anaconda3\\envs\\credit-fraud\\lib\\site-packages\\xgboost\\core.py:158: UserWarning: [16:01:29] WARNING: C:\\buildkite-agent\\builds\\buildkite-windows-cpu-autoscaling-group-i-08cbc0333d8d4aae1-1\\xgboost\\xgboost-ci-windows\\src\\c_api\\c_api.cc:1374: Saving model in the UBJSON format as default.  You can use file extension: `json`, `ubj` or `deprecated` to choose between formats.\"\n",
      "f:\\ProgramFiles\\anaconda3\\envs\\credit-fraud\\lib\\site-packages\\xgboost\\core.py:158: UserWarning: [16:01:47] WARNING: C:\\buildkite-agent\\builds\\buildkite-windows-cpu-autoscaling-group-i-08cbc0333d8d4aae1-1\\xgboost\\xgboost-ci-windows\\src\\c_api\\c_api.cc:1374: Saving model in the UBJSON format as default.  You can use file extension: `json`, `ubj` or `deprecated` to choose between formats.\n",
      "  warnings.warn(smsg, UserWarning)\n",
      "2025/04/25 16:01:56 WARNING mlflow.models.model: Model logged without a signature and input example. Please set `input_example` parameter when logging the model to auto infer the model signature.\n",
      "Registered model 'XGBClassifier_CreditFraud_Optuna' already exists. Creating a new version of this model...\n",
      "2025/04/25 16:02:03 INFO mlflow.store.model_registry.abstract_store: Waiting up to 300 seconds for model version to finish creation. Model name: XGBClassifier_CreditFraud_Optuna, version 2\n"
     ]
    },
    {
     "name": "stdout",
     "output_type": "stream",
     "text": [
      "[2025-04-25 16:02:03,113: INFO: 3253257748: Best model logged to MLflow]\n",
      "[2025-04-25 16:02:03,139: INFO: 3253257748: Best model saved locally at artifacts/model_trainer\\model.joblib]\n"
     ]
    },
    {
     "name": "stderr",
     "output_type": "stream",
     "text": [
      "Created version '2' of model 'XGBClassifier_CreditFraud_Optuna'.\n"
     ]
    },
    {
     "name": "stdout",
     "output_type": "stream",
     "text": [
      "🏃 View run Optuna_HPO at: https://dagshub.com/JavithNaseem-J/E2E-Credit-Fraud-Detection.mlflow/#/experiments/0/runs/47d601f413a0451ba4932d0fd348ff7e\n",
      "🧪 View experiment at: https://dagshub.com/JavithNaseem-J/E2E-Credit-Fraud-Detection.mlflow/#/experiments/0\n"
     ]
    }
   ],
   "source": [
    "try:\n",
    "    config = ConfigurationManager()\n",
    "    model_trainer_config = config.get_model_training_config()\n",
    "    model_trainer = ModelTrainer(config=model_trainer_config)\n",
    "    model_trainer.train()\n",
    "    \n",
    "except FileNotFoundError as e:\n",
    "    logger.error(f'File Not Found: {e}')\n",
    "except KeyError as e:\n",
    "    logger.error(f'Key Error: {e}')\n",
    "except AttributeError as e:\n",
    "    logger.error(f'Attribute Error: {e}')\n",
    "except Exception as e:\n",
    "    logger.error(f'Unexpected error: {e}')"
   ]
  }
 ],
 "metadata": {
  "kernelspec": {
   "display_name": "credit-fraud",
   "language": "python",
   "name": "python3"
  },
  "language_info": {
   "codemirror_mode": {
    "name": "ipython",
    "version": 3
   },
   "file_extension": ".py",
   "mimetype": "text/x-python",
   "name": "python",
   "nbconvert_exporter": "python",
   "pygments_lexer": "ipython3",
   "version": "3.10.16"
  }
 },
 "nbformat": 4,
 "nbformat_minor": 2
}
