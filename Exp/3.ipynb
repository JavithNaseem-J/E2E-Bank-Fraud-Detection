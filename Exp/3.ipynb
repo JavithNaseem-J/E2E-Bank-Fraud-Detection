{
 "cells": [
  {
   "cell_type": "code",
   "execution_count": 1,
   "metadata": {},
   "outputs": [],
   "source": [
    "import os"
   ]
  },
  {
   "cell_type": "code",
   "execution_count": 2,
   "metadata": {},
   "outputs": [
    {
     "data": {
      "text/plain": [
       "'f:\\\\Files\\\\DS&ML\\\\E2E-Credit-Fraud-Detection\\\\Exp'"
      ]
     },
     "execution_count": 2,
     "metadata": {},
     "output_type": "execute_result"
    }
   ],
   "source": [
    "pwd%%"
   ]
  },
  {
   "cell_type": "code",
   "execution_count": 3,
   "metadata": {},
   "outputs": [],
   "source": [
    "os.chdir('../')"
   ]
  },
  {
   "cell_type": "code",
   "execution_count": 4,
   "metadata": {},
   "outputs": [
    {
     "data": {
      "text/plain": [
       "'f:\\\\Files\\\\DS&ML\\\\E2E-Credit-Fraud-Detection'"
      ]
     },
     "execution_count": 4,
     "metadata": {},
     "output_type": "execute_result"
    }
   ],
   "source": [
    "pwd%%"
   ]
  },
  {
   "cell_type": "code",
   "execution_count": 5,
   "metadata": {},
   "outputs": [],
   "source": [
    "from dataclasses import dataclass\n",
    "from pathlib import Path\n",
    "\n",
    "@dataclass(frozen=True)\n",
    "class DataTransformationConfig:\n",
    "    root_dir: Path\n",
    "    data_path: Path\n",
    "    target_column: str\n",
    "    preprocessor_path: Path\n",
    "    label_encoder: Path\n",
    "    categorical_columns: list\n",
    "    numeric_columns: list\n",
    "    columns_to_drop: list\n",
    "    test_size: float\n",
    "    random_state: int"
   ]
  },
  {
   "cell_type": "code",
   "execution_count": 6,
   "metadata": {},
   "outputs": [],
   "source": [
    "from project.constants import *\n",
    "from project.utils.common import *"
   ]
  },
  {
   "cell_type": "code",
   "execution_count": 7,
   "metadata": {},
   "outputs": [],
   "source": [
    "class ConfigurationManager:\n",
    "    def __init__(\n",
    "        self,\n",
    "        config_filepath = CONFIG_PATH,\n",
    "        params_filepath = PARAMS_PATH,\n",
    "        schema_filepath = SCHEMA_PATH):\n",
    "\n",
    "        self.config = read_yaml(config_filepath)\n",
    "        self.params = read_yaml(params_filepath)\n",
    "        self.schema = read_yaml(schema_filepath)\n",
    "\n",
    "        create_directories([self.config.artifacts_root])\n",
    "\n",
    "    def get_data_transformation_config(self) -> DataTransformationConfig:\n",
    "        config = self.config.data_transformation\n",
    "        schema = self.schema\n",
    "        params = self.params.train_test_split\n",
    "\n",
    "        create_directories([config.root_dir])\n",
    "        \n",
    "        data_transformation_config = DataTransformationConfig(\n",
    "            root_dir=config.root_dir,\n",
    "            data_path=config.data_path,\n",
    "            target_column=schema.target_column.name,\n",
    "            preprocessor_path=config.preprocessor_path,\n",
    "            label_encoder=config.label_encoder,\n",
    "            categorical_columns=schema.categorical_columns,\n",
    "            numeric_columns=schema.numeric_columns,\n",
    "            columns_to_drop=schema.data_cleaning.columns_to_drop,\n",
    "            test_size=params.test_size,\n",
    "            random_state=params.random_state\n",
    "        )\n",
    "        \n",
    "        return data_transformation_config"
   ]
  },
  {
   "cell_type": "code",
   "execution_count": 8,
   "metadata": {},
   "outputs": [],
   "source": [
    "import pandas as pd\n",
    "import numpy as np\n",
    "import joblib"
   ]
  },
  {
   "cell_type": "code",
   "execution_count": 9,
   "metadata": {},
   "outputs": [],
   "source": [
    "import pandas as pd\n",
    "import numpy as np\n",
    "from pathlib import Path\n",
    "from sklearn.model_selection import train_test_split\n",
    "from sklearn.preprocessing import StandardScaler, LabelEncoder\n",
    "from sklearn.compose import ColumnTransformer\n",
    "from sklearn.pipeline import Pipeline\n",
    "from sklearn.impute import SimpleImputer\n",
    "from imblearn.under_sampling import TomekLinks\n",
    "from imblearn.combine import SMOTETomek\n",
    "import joblib\n",
    "from project import logger\n",
    "\n",
    "class DataTransformation:\n",
    "    def __init__(self, config: DataTransformationConfig):\n",
    "        self.config = config\n",
    "        self.columns_to_drop = config.columns_to_drop\n",
    "        self.target_column = config.target_column\n",
    "        self.label_encoders = {}\n",
    "        self.categorical_columns = config.categorical_columns\n",
    "        self.numerical_columns = config.numeric_columns\n",
    "        self.test_size = config.test_size\n",
    "        self.random_state = config.random_state\n",
    "        \n",
    "\n",
    "    def preprocess_data(self, data: pd.DataFrame) -> pd.DataFrame:\n",
    "        try:\n",
    "            data = data.copy()\n",
    "\n",
    "            data.drop(columns=self.columns_to_drop, inplace=True, errors='ignore')\n",
    "            \n",
    "            for column in self.categorical_columns:\n",
    "                if column in data.columns:\n",
    "                    le = LabelEncoder()\n",
    "                    data[column] = le.fit_transform(data[column].astype(str))\n",
    "                    self.label_encoders[column] = le            \n",
    "            \n",
    "            \n",
    "            \n",
    "            os.makedirs(os.path.dirname(self.config.label_encoder), exist_ok=True)\n",
    "            joblib.dump(self.label_encoders, self.config.label_encoder)\n",
    "            logger.info(f\"Saved label encoders to {self.config.label_encoder}\")\n",
    "            \n",
    "            return data\n",
    "            \n",
    "        except Exception as e:\n",
    "            logger.error(f\"Error in preprocess_data: {str(e)}\")\n",
    "            raise e\n",
    "\n",
    "    def train_test_splitting(self):\n",
    "        try:\n",
    "            logger.info(f\"Loading data from {self.config.data_path}\")\n",
    "            data = pd.read_csv(self.config.data_path)\n",
    "            \n",
    "            data = self.preprocess_data(data)\n",
    "            data = data.dropna()\n",
    "            \n",
    "            \n",
    "            X = data.drop(columns=[self.target_column])\n",
    "            y = data[self.target_column]\n",
    "            \n",
    "            smote = SMOTETomek(tomek=TomekLinks(sampling_strategy='majority'))\n",
    "            X_resampled, y_resampled = smote.fit_resample(X, y)\n",
    "            \n",
    "            X_resampled = pd.DataFrame(X_resampled, columns=X.columns)\n",
    "            resampled_data = X_resampled.copy()\n",
    "            resampled_data[self.target_column] = y_resampled\n",
    "            \n",
    "            train, test = train_test_split(resampled_data, test_size= self.test_size, random_state=self.random_state)\n",
    "            \n",
    "            train_path = os.path.join(self.config.root_dir, \"train.csv\")\n",
    "            test_path = os.path.join(self.config.root_dir, \"test.csv\")\n",
    "            train.to_csv(train_path, index=False)\n",
    "            test.to_csv(test_path, index=False)\n",
    "\n",
    "            logger.info(\"Split data into training and test sets\")\n",
    "            logger.info(f\"Training data shape: {train.shape}\")\n",
    "            logger.info(f\"Test data shape: {test.shape}\")\n",
    "\n",
    "            return train, test\n",
    "            \n",
    "        except Exception as e:\n",
    "            logger.error(f\"Error in train_test_splitting: {e}\")\n",
    "            raise e\n",
    "    \n",
    "    def preprocess_features(self, train, test):\n",
    "        try:\n",
    "            numerical_columns = self.numerical_columns\n",
    "            categorical_columns = self.categorical_columns\n",
    "\n",
    "            if self.target_column in categorical_columns:\n",
    "                categorical_columns.remove(self.target_column)\n",
    "\n",
    "            logger.info(f\"Numerical columns: {list(numerical_columns)}\")\n",
    "            logger.info(f\"Categorical columns: {list(categorical_columns)}\")\n",
    "\n",
    "            num_pipeline = Pipeline(steps=[\n",
    "                (\"scaler\", StandardScaler())\n",
    "            ])\n",
    "            \n",
    "            preprocessor = ColumnTransformer(\n",
    "                transformers=[\n",
    "                    (\"num\", num_pipeline, numerical_columns)\n",
    "                ],\n",
    "                remainder=\"passthrough\"\n",
    "            )\n",
    "\n",
    "            train_x = train.drop(columns=[self.target_column])\n",
    "            test_x = test.drop(columns=[self.target_column])\n",
    "            train_y = train[self.target_column]\n",
    "            test_y = test[self.target_column]\n",
    "\n",
    "            train_processed = preprocessor.fit_transform(train_x)\n",
    "            test_processed = preprocessor.transform(test_x)\n",
    "\n",
    "            train_y = train_y.values.reshape(-1, 1)\n",
    "            test_y = test_y.values.reshape(-1, 1)\n",
    "\n",
    "            train_combined = np.hstack((train_processed, train_y))\n",
    "            test_combined = np.hstack((test_processed, test_y))\n",
    "\n",
    "            joblib.dump(preprocessor, self.config.preprocessor_path)\n",
    "            logger.info(f\"Preprocessor saved at {self.config.preprocessor_path}\")\n",
    "\n",
    "            train_processed_path = os.path.join(self.config.root_dir, \"train_processed.npy\")\n",
    "            test_processed_path = os.path.join(self.config.root_dir, \"test_processed.npy\")\n",
    "            \n",
    "            np.save(train_processed_path, train_combined)\n",
    "            np.save(test_processed_path, test_combined)\n",
    "\n",
    "            logger.info(\"Preprocessed train and test data saved successfully.\")\n",
    "            return train_processed, test_processed\n",
    "\n",
    "        except Exception as e:\n",
    "            logger.error(f\"Error in preprocess_features: {e}\")\n",
    "            raise e"
   ]
  },
  {
   "cell_type": "code",
   "execution_count": 10,
   "metadata": {},
   "outputs": [
    {
     "name": "stdout",
     "output_type": "stream",
     "text": [
      "[2025-04-21 17:44:12,850: INFO: common: yaml file: yaml file\\config.yaml loaded successfully]\n",
      "[2025-04-21 17:44:12,870: INFO: common: yaml file: yaml file\\params.yaml loaded successfully]\n",
      "[2025-04-21 17:44:12,874: INFO: common: yaml file: yaml file\\schema.yaml loaded successfully]\n",
      "[2025-04-21 17:44:12,877: INFO: common: created directory at: artifacts]\n",
      "[2025-04-21 17:44:12,878: INFO: common: created directory at: artifacts/data_transformation]\n",
      "[2025-04-21 17:44:12,878: INFO: 2182098855: Loading data from artifacts/data_ingestion/Fraud-data.csv]\n",
      "[2025-04-21 17:44:13,017: INFO: 2182098855: Saved label encoders to artifacts/data_transformation/label_encoders.pkl]\n",
      "[2025-04-21 17:44:14,100: INFO: 2182098855: Split data into training and test sets]\n",
      "[2025-04-21 17:44:14,100: INFO: 2182098855: Training data shape: (69840, 10)]\n",
      "[2025-04-21 17:44:14,100: INFO: 2182098855: Test data shape: (17460, 10)]\n",
      "[2025-04-21 17:44:14,100: INFO: 2182098855: Numerical columns: ['Transaction_Amount', 'Time_of_Transaction', 'Previous_Fraudulent_Transactions', 'Account_Age', 'Number_of_Transactions_Last_24H']]\n",
      "[2025-04-21 17:44:14,100: INFO: 2182098855: Categorical columns: ['Transaction_Type', 'Device_Used', 'Location', 'Payment_Method']]\n",
      "[2025-04-21 17:44:14,141: INFO: 2182098855: Preprocessor saved at artifacts/data_transformation/preprocessor.pkl]\n",
      "[2025-04-21 17:44:14,144: INFO: 2182098855: Preprocessed train and test data saved successfully.]\n"
     ]
    }
   ],
   "source": [
    "try:\n",
    "    config = ConfigurationManager()\n",
    "    data_transformation_config = config.get_data_transformation_config()\n",
    "    data_transformation = DataTransformation(config=data_transformation_config)\n",
    "    train, test = data_transformation.train_test_splitting()\n",
    "    train_processed, test_processed = data_transformation.preprocess_features(train, test)\n",
    "except FileNotFoundError as e:\n",
    "    logger.error(f\"File not found: {e}\")\n",
    "except KeyError as e:\n",
    "    logger.error(f\"Missing key in configuration: {str(e)}\")\n",
    "except Exception as e:\n",
    "    logger.error(f\"Unexpected error: {str(e)}\") "
   ]
  }
 ],
 "metadata": {
  "kernelspec": {
   "display_name": "credit-fraud",
   "language": "python",
   "name": "python3"
  },
  "language_info": {
   "codemirror_mode": {
    "name": "ipython",
    "version": 3
   },
   "file_extension": ".py",
   "mimetype": "text/x-python",
   "name": "python",
   "nbconvert_exporter": "python",
   "pygments_lexer": "ipython3",
   "version": "3.10.16"
  }
 },
 "nbformat": 4,
 "nbformat_minor": 2
}
